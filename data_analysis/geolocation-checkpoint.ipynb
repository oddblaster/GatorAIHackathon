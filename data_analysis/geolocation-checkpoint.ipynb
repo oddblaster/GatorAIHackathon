{
 "cells": [
  {
   "cell_type": "code",
   "execution_count": 16,
   "metadata": {},
   "outputs": [],
   "source": [
    "import geopandas as gpd  # Import geopandas\n",
    "import matplotlib.pyplot as plt  # Import matplotlib for plotting\n",
    "from shapely.geometry import Point  # Import Point for creating geometries\n",
    "from geodatasets import data"
   ]
  },
  {
   "cell_type": "code",
   "execution_count": 35,
   "metadata": {},
   "outputs": [],
   "source": [
    "# Function to plot a location on a map\n",
    "def plot_location(latitude, longitude):\n",
    "    # Create a GeoDataFrame with the input location\n",
    "    geometry = [Point(longitude, latitude)]  # Note: Point takes (longitude, latitude)\n",
    "    gdf = gpd.GeoDataFrame(geometry=geometry, crs=\"EPSG:4326\")  # Create GeoDataFrame\n",
    "    \n",
    "    # Load a world map\n",
    "    florida_datasets = data.filter(name=\"airbnb\",geometry_type=\"Point\")\n",
    "    print(type(florida_datasets))\n",
    "    # Plot the world map\n",
    "    # ax = florida_datasets.plot(figsize=(10, 6), color='lightgrey')\n",
    "    print(florida_datasets)\n",
    "    # Plot the location\n",
    "    #gdf.plot(ax=ax, color='red', markersize=100)  # Plot the point in red\n",
    "\n",
    "    # Set title and show the plot\n",
    "    plt.title(f'Location: ({latitude}, {longitude})')\n",
    "    plt.xlabel('Longitude')\n",
    "    plt.ylabel('Latitude')\n",
    "    plt.show()"
   ]
  },
  {
   "cell_type": "code",
   "execution_count": 36,
   "metadata": {},
   "outputs": [
    {
     "name": "stdout",
     "output_type": "stream",
     "text": [
      "Enter latitude:  20\n",
      "Enter longitude:  40\n"
     ]
    },
    {
     "ename": "TypeError",
     "evalue": "type() takes no keyword arguments",
     "output_type": "error",
     "traceback": [
      "\u001b[1;31m---------------------------------------------------------------------------\u001b[0m",
      "\u001b[1;31mTypeError\u001b[0m                                 Traceback (most recent call last)",
      "Cell \u001b[1;32mIn[36], line 3\u001b[0m\n\u001b[0;32m      1\u001b[0m latitude \u001b[38;5;241m=\u001b[39m \u001b[38;5;28mfloat\u001b[39m(\u001b[38;5;28minput\u001b[39m(\u001b[38;5;124m\"\u001b[39m\u001b[38;5;124mEnter latitude: \u001b[39m\u001b[38;5;124m\"\u001b[39m))  \u001b[38;5;66;03m# Input latitude\u001b[39;00m\n\u001b[0;32m      2\u001b[0m longitude \u001b[38;5;241m=\u001b[39m \u001b[38;5;28mfloat\u001b[39m(\u001b[38;5;28minput\u001b[39m(\u001b[38;5;124m\"\u001b[39m\u001b[38;5;124mEnter longitude: \u001b[39m\u001b[38;5;124m\"\u001b[39m))  \u001b[38;5;66;03m# Input longitude\u001b[39;00m\n\u001b[1;32m----> 3\u001b[0m \u001b[43mplot_location\u001b[49m\u001b[43m(\u001b[49m\u001b[43mlatitude\u001b[49m\u001b[43m,\u001b[49m\u001b[43m \u001b[49m\u001b[43mlongitude\u001b[49m\u001b[43m)\u001b[49m  \u001b[38;5;66;03m# Call the function to plot the location\u001b[39;00m\n",
      "Cell \u001b[1;32mIn[35], line 9\u001b[0m, in \u001b[0;36mplot_location\u001b[1;34m(latitude, longitude)\u001b[0m\n\u001b[0;32m      7\u001b[0m \u001b[38;5;66;03m# Load a world map\u001b[39;00m\n\u001b[0;32m      8\u001b[0m florida_datasets \u001b[38;5;241m=\u001b[39m data\u001b[38;5;241m.\u001b[39mfilter(name\u001b[38;5;241m=\u001b[39m\u001b[38;5;124m\"\u001b[39m\u001b[38;5;124mairbnb\u001b[39m\u001b[38;5;124m\"\u001b[39m)\n\u001b[1;32m----> 9\u001b[0m \u001b[38;5;28mprint\u001b[39m(\u001b[38;5;28;43mtype\u001b[39;49m\u001b[43m(\u001b[49m\u001b[43mflorida_datasets\u001b[49m\u001b[43m,\u001b[49m\u001b[43m \u001b[49m\u001b[43mgeometry_type\u001b[49m\u001b[38;5;241;43m=\u001b[39;49m\u001b[38;5;124;43m\"\u001b[39;49m\u001b[38;5;124;43mPoint\u001b[39;49m\u001b[38;5;124;43m\"\u001b[39;49m\u001b[43m)\u001b[49m)\n\u001b[0;32m     10\u001b[0m \u001b[38;5;66;03m# Plot the world map\u001b[39;00m\n\u001b[0;32m     11\u001b[0m \u001b[38;5;66;03m# ax = florida_datasets.plot(figsize=(10, 6), color='lightgrey')\u001b[39;00m\n\u001b[0;32m     12\u001b[0m \u001b[38;5;28mprint\u001b[39m(florida_datasets)\n",
      "\u001b[1;31mTypeError\u001b[0m: type() takes no keyword arguments"
     ]
    }
   ],
   "source": [
    "latitude = float(input(\"Enter latitude: \"))  # Input latitude\n",
    "longitude = float(input(\"Enter longitude: \"))  # Input longitude\n",
    "plot_location(latitude, longitude)  # Call the function to plot the location"
   ]
  },
  {
   "cell_type": "code",
   "execution_count": null,
   "metadata": {},
   "outputs": [],
   "source": []
  }
 ],
 "metadata": {
  "kernelspec": {
   "display_name": "Python 3 (ipykernel)",
   "language": "python",
   "name": "python3"
  },
  "language_info": {
   "codemirror_mode": {
    "name": "ipython",
    "version": 3
   },
   "file_extension": ".py",
   "mimetype": "text/x-python",
   "name": "python",
   "nbconvert_exporter": "python",
   "pygments_lexer": "ipython3",
   "version": "3.12.6"
  }
 },
 "nbformat": 4,
 "nbformat_minor": 4
}
