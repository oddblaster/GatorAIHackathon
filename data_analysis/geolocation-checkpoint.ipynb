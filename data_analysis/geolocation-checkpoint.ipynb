{
 "cells": [
  {
   "cell_type": "code",
   "execution_count": 11,
   "metadata": {},
   "outputs": [
    {
     "name": "stdout",
     "output_type": "stream",
     "text": [
      "Requirement already satisfied: geopandas in c:\\users\\chuya\\onedrive\\documents\\projects\\gatoraihackathon\\gatoraihackathon\\env\\lib\\site-packages (1.0.1)\n",
      "Requirement already satisfied: numpy>=1.22 in c:\\users\\chuya\\onedrive\\documents\\projects\\gatoraihackathon\\gatoraihackathon\\env\\lib\\site-packages (from geopandas) (2.1.2)\n",
      "Requirement already satisfied: pyogrio>=0.7.2 in c:\\users\\chuya\\onedrive\\documents\\projects\\gatoraihackathon\\gatoraihackathon\\env\\lib\\site-packages (from geopandas) (0.10.0)\n",
      "Requirement already satisfied: packaging in c:\\users\\chuya\\onedrive\\documents\\projects\\gatoraihackathon\\gatoraihackathon\\env\\lib\\site-packages (from geopandas) (24.1)\n",
      "Requirement already satisfied: pandas>=1.4.0 in c:\\users\\chuya\\onedrive\\documents\\projects\\gatoraihackathon\\gatoraihackathon\\env\\lib\\site-packages (from geopandas) (2.2.3)\n",
      "Requirement already satisfied: pyproj>=3.3.0 in c:\\users\\chuya\\onedrive\\documents\\projects\\gatoraihackathon\\gatoraihackathon\\env\\lib\\site-packages (from geopandas) (3.7.0)\n",
      "Requirement already satisfied: shapely>=2.0.0 in c:\\users\\chuya\\onedrive\\documents\\projects\\gatoraihackathon\\gatoraihackathon\\env\\lib\\site-packages (from geopandas) (2.0.6)\n",
      "Requirement already satisfied: python-dateutil>=2.8.2 in c:\\users\\chuya\\onedrive\\documents\\projects\\gatoraihackathon\\gatoraihackathon\\env\\lib\\site-packages (from pandas>=1.4.0->geopandas) (2.9.0.post0)\n",
      "Requirement already satisfied: pytz>=2020.1 in c:\\users\\chuya\\onedrive\\documents\\projects\\gatoraihackathon\\gatoraihackathon\\env\\lib\\site-packages (from pandas>=1.4.0->geopandas) (2024.2)\n",
      "Requirement already satisfied: tzdata>=2022.7 in c:\\users\\chuya\\onedrive\\documents\\projects\\gatoraihackathon\\gatoraihackathon\\env\\lib\\site-packages (from pandas>=1.4.0->geopandas) (2024.2)\n",
      "Requirement already satisfied: certifi in c:\\users\\chuya\\onedrive\\documents\\projects\\gatoraihackathon\\gatoraihackathon\\env\\lib\\site-packages (from pyogrio>=0.7.2->geopandas) (2024.8.30)\n",
      "Requirement already satisfied: six>=1.5 in c:\\users\\chuya\\onedrive\\documents\\projects\\gatoraihackathon\\gatoraihackathon\\env\\lib\\site-packages (from python-dateutil>=2.8.2->pandas>=1.4.0->geopandas) (1.16.0)\n",
      "Requirement already satisfied: matplotlib in c:\\users\\chuya\\onedrive\\documents\\projects\\gatoraihackathon\\gatoraihackathon\\env\\lib\\site-packages (3.9.2)\n",
      "Requirement already satisfied: contourpy>=1.0.1 in c:\\users\\chuya\\onedrive\\documents\\projects\\gatoraihackathon\\gatoraihackathon\\env\\lib\\site-packages (from matplotlib) (1.3.0)\n",
      "Requirement already satisfied: cycler>=0.10 in c:\\users\\chuya\\onedrive\\documents\\projects\\gatoraihackathon\\gatoraihackathon\\env\\lib\\site-packages (from matplotlib) (0.12.1)\n",
      "Requirement already satisfied: fonttools>=4.22.0 in c:\\users\\chuya\\onedrive\\documents\\projects\\gatoraihackathon\\gatoraihackathon\\env\\lib\\site-packages (from matplotlib) (4.54.1)\n",
      "Requirement already satisfied: kiwisolver>=1.3.1 in c:\\users\\chuya\\onedrive\\documents\\projects\\gatoraihackathon\\gatoraihackathon\\env\\lib\\site-packages (from matplotlib) (1.4.7)\n",
      "Requirement already satisfied: numpy>=1.23 in c:\\users\\chuya\\onedrive\\documents\\projects\\gatoraihackathon\\gatoraihackathon\\env\\lib\\site-packages (from matplotlib) (2.1.2)\n",
      "Requirement already satisfied: packaging>=20.0 in c:\\users\\chuya\\onedrive\\documents\\projects\\gatoraihackathon\\gatoraihackathon\\env\\lib\\site-packages (from matplotlib) (24.1)\n",
      "Requirement already satisfied: pillow>=8 in c:\\users\\chuya\\onedrive\\documents\\projects\\gatoraihackathon\\gatoraihackathon\\env\\lib\\site-packages (from matplotlib) (11.0.0)\n",
      "Requirement already satisfied: pyparsing>=2.3.1 in c:\\users\\chuya\\onedrive\\documents\\projects\\gatoraihackathon\\gatoraihackathon\\env\\lib\\site-packages (from matplotlib) (3.2.0)\n",
      "Requirement already satisfied: python-dateutil>=2.7 in c:\\users\\chuya\\onedrive\\documents\\projects\\gatoraihackathon\\gatoraihackathon\\env\\lib\\site-packages (from matplotlib) (2.9.0.post0)\n",
      "Requirement already satisfied: six>=1.5 in c:\\users\\chuya\\onedrive\\documents\\projects\\gatoraihackathon\\gatoraihackathon\\env\\lib\\site-packages (from python-dateutil>=2.7->matplotlib) (1.16.0)\n",
      "Requirement already satisfied: shapely in c:\\users\\chuya\\onedrive\\documents\\projects\\gatoraihackathon\\gatoraihackathon\\env\\lib\\site-packages (2.0.6)\n",
      "Requirement already satisfied: numpy<3,>=1.14 in c:\\users\\chuya\\onedrive\\documents\\projects\\gatoraihackathon\\gatoraihackathon\\env\\lib\\site-packages (from shapely) (2.1.2)\n",
      "Collecting geodatasets\n",
      "  Downloading geodatasets-2024.8.0-py3-none-any.whl.metadata (5.4 kB)\n",
      "Collecting pooch (from geodatasets)\n",
      "  Using cached pooch-1.8.2-py3-none-any.whl.metadata (10 kB)\n",
      "Requirement already satisfied: platformdirs>=2.5.0 in c:\\users\\chuya\\onedrive\\documents\\projects\\gatoraihackathon\\gatoraihackathon\\env\\lib\\site-packages (from pooch->geodatasets) (4.3.6)\n",
      "Requirement already satisfied: packaging>=20.0 in c:\\users\\chuya\\onedrive\\documents\\projects\\gatoraihackathon\\gatoraihackathon\\env\\lib\\site-packages (from pooch->geodatasets) (24.1)\n",
      "Requirement already satisfied: requests>=2.19.0 in c:\\users\\chuya\\onedrive\\documents\\projects\\gatoraihackathon\\gatoraihackathon\\env\\lib\\site-packages (from pooch->geodatasets) (2.32.3)\n",
      "Requirement already satisfied: charset-normalizer<4,>=2 in c:\\users\\chuya\\onedrive\\documents\\projects\\gatoraihackathon\\gatoraihackathon\\env\\lib\\site-packages (from requests>=2.19.0->pooch->geodatasets) (3.4.0)\n",
      "Requirement already satisfied: idna<4,>=2.5 in c:\\users\\chuya\\onedrive\\documents\\projects\\gatoraihackathon\\gatoraihackathon\\env\\lib\\site-packages (from requests>=2.19.0->pooch->geodatasets) (3.10)\n",
      "Requirement already satisfied: urllib3<3,>=1.21.1 in c:\\users\\chuya\\onedrive\\documents\\projects\\gatoraihackathon\\gatoraihackathon\\env\\lib\\site-packages (from requests>=2.19.0->pooch->geodatasets) (2.2.3)\n",
      "Requirement already satisfied: certifi>=2017.4.17 in c:\\users\\chuya\\onedrive\\documents\\projects\\gatoraihackathon\\gatoraihackathon\\env\\lib\\site-packages (from requests>=2.19.0->pooch->geodatasets) (2024.8.30)\n",
      "Downloading geodatasets-2024.8.0-py3-none-any.whl (20 kB)\n",
      "Using cached pooch-1.8.2-py3-none-any.whl (64 kB)\n",
      "Installing collected packages: pooch, geodatasets\n",
      "Successfully installed geodatasets-2024.8.0 pooch-1.8.2\n"
     ]
    }
   ],
   "source": [
    "!pip install geopandas \n",
    "!pip install matplotlib\n",
    "!pip install shapely\n",
    "!pip install geodatasets"
   ]
  },
  {
   "cell_type": "code",
   "execution_count": 16,
   "metadata": {},
   "outputs": [],
   "source": [
    "import geopandas as gpd  # Import geopandas\n",
    "import matplotlib.pyplot as plt  # Import matplotlib for plotting\n",
    "from shapely.geometry import Point  # Import Point for creating geometries\n",
    "from geodatasets import data"
   ]
  },
  {
   "cell_type": "code",
   "execution_count": 35,
   "metadata": {},
   "outputs": [],
   "source": [
    "# Function to plot a location on a map\n",
    "def plot_location(latitude, longitude):\n",
    "    # Create a GeoDataFrame with the input location\n",
    "    geometry = [Point(longitude, latitude)]  # Note: Point takes (longitude, latitude)\n",
    "    gdf = gpd.GeoDataFrame(geometry=geometry, crs=\"EPSG:4326\")  # Create GeoDataFrame\n",
    "    \n",
    "    # Load a world map\n",
    "    florida_datasets = data.filter(name=\"airbnb\",geometry_type=\"Point\")\n",
    "    print(type(florida_datasets))\n",
    "    # Plot the world map\n",
    "    # ax = florida_datasets.plot(figsize=(10, 6), color='lightgrey')\n",
    "    print(florida_datasets)\n",
    "    # Plot the location\n",
    "    #gdf.plot(ax=ax, color='red', markersize=100)  # Plot the point in red\n",
    "\n",
    "    # Set title and show the plot\n",
    "    plt.title(f'Location: ({latitude}, {longitude})')\n",
    "    plt.xlabel('Longitude')\n",
    "    plt.ylabel('Latitude')\n",
    "    plt.show()"
   ]
  },
  {
   "cell_type": "code",
   "execution_count": 36,
   "metadata": {},
   "outputs": [
    {
     "name": "stdin",
     "output_type": "stream",
     "text": [
      "Enter latitude:  20\n",
      "Enter longitude:  40\n"
     ]
    },
    {
     "ename": "TypeError",
     "evalue": "type() takes no keyword arguments",
     "output_type": "error",
     "traceback": [
      "\u001b[1;31m---------------------------------------------------------------------------\u001b[0m",
      "\u001b[1;31mTypeError\u001b[0m                                 Traceback (most recent call last)",
      "Cell \u001b[1;32mIn[36], line 3\u001b[0m\n\u001b[0;32m      1\u001b[0m latitude \u001b[38;5;241m=\u001b[39m \u001b[38;5;28mfloat\u001b[39m(\u001b[38;5;28minput\u001b[39m(\u001b[38;5;124m\"\u001b[39m\u001b[38;5;124mEnter latitude: \u001b[39m\u001b[38;5;124m\"\u001b[39m))  \u001b[38;5;66;03m# Input latitude\u001b[39;00m\n\u001b[0;32m      2\u001b[0m longitude \u001b[38;5;241m=\u001b[39m \u001b[38;5;28mfloat\u001b[39m(\u001b[38;5;28minput\u001b[39m(\u001b[38;5;124m\"\u001b[39m\u001b[38;5;124mEnter longitude: \u001b[39m\u001b[38;5;124m\"\u001b[39m))  \u001b[38;5;66;03m# Input longitude\u001b[39;00m\n\u001b[1;32m----> 3\u001b[0m \u001b[43mplot_location\u001b[49m\u001b[43m(\u001b[49m\u001b[43mlatitude\u001b[49m\u001b[43m,\u001b[49m\u001b[43m \u001b[49m\u001b[43mlongitude\u001b[49m\u001b[43m)\u001b[49m  \u001b[38;5;66;03m# Call the function to plot the location\u001b[39;00m\n",
      "Cell \u001b[1;32mIn[35], line 9\u001b[0m, in \u001b[0;36mplot_location\u001b[1;34m(latitude, longitude)\u001b[0m\n\u001b[0;32m      7\u001b[0m \u001b[38;5;66;03m# Load a world map\u001b[39;00m\n\u001b[0;32m      8\u001b[0m florida_datasets \u001b[38;5;241m=\u001b[39m data\u001b[38;5;241m.\u001b[39mfilter(name\u001b[38;5;241m=\u001b[39m\u001b[38;5;124m\"\u001b[39m\u001b[38;5;124mairbnb\u001b[39m\u001b[38;5;124m\"\u001b[39m)\n\u001b[1;32m----> 9\u001b[0m \u001b[38;5;28mprint\u001b[39m(\u001b[38;5;28;43mtype\u001b[39;49m\u001b[43m(\u001b[49m\u001b[43mflorida_datasets\u001b[49m\u001b[43m,\u001b[49m\u001b[43m \u001b[49m\u001b[43mgeometry_type\u001b[49m\u001b[38;5;241;43m=\u001b[39;49m\u001b[38;5;124;43m\"\u001b[39;49m\u001b[38;5;124;43mPoint\u001b[39;49m\u001b[38;5;124;43m\"\u001b[39;49m\u001b[43m)\u001b[49m)\n\u001b[0;32m     10\u001b[0m \u001b[38;5;66;03m# Plot the world map\u001b[39;00m\n\u001b[0;32m     11\u001b[0m \u001b[38;5;66;03m# ax = florida_datasets.plot(figsize=(10, 6), color='lightgrey')\u001b[39;00m\n\u001b[0;32m     12\u001b[0m \u001b[38;5;28mprint\u001b[39m(florida_datasets)\n",
      "\u001b[1;31mTypeError\u001b[0m: type() takes no keyword arguments"
     ]
    }
   ],
   "source": [
    "latitude = float(input(\"Enter latitude: \"))  # Input latitude\n",
    "longitude = float(input(\"Enter longitude: \"))  # Input longitude\n",
    "plot_location(latitude, longitude)  # Call the function to plot the location"
   ]
  },
  {
   "cell_type": "code",
   "execution_count": null,
   "metadata": {},
   "outputs": [],
   "source": []
  }
 ],
 "metadata": {
  "kernelspec": {
   "display_name": "Python 3 (ipykernel)",
   "language": "python",
   "name": "python3"
  },
  "language_info": {
   "codemirror_mode": {
    "name": "ipython",
    "version": 3
   },
   "file_extension": ".py",
   "mimetype": "text/x-python",
   "name": "python",
   "nbconvert_exporter": "python",
   "pygments_lexer": "ipython3",
   "version": "3.12.6"
  }
 },
 "nbformat": 4,
 "nbformat_minor": 4
}
